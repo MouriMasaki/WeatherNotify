{
 "cells": [
  {
   "cell_type": "markdown",
   "metadata": {},
   "source": [
    "# 天気をLine通知する方法\n",
    "### Open Weather API　と　LineNotify を使用する"
   ]
  },
  {
   "cell_type": "markdown",
   "metadata": {},
   "source": [
    "### 各モジュールインポート"
   ]
  },
  {
   "cell_type": "code",
   "execution_count": null,
   "metadata": {},
   "outputs": [],
   "source": [
    "import datetime\n",
    "import requests\n",
    "import json\n",
    "import pandas as pd\n",
    "import os\n",
    "import sys\n",
    "\n",
    "from pytz import timezone"
   ]
  },
  {
   "cell_type": "markdown",
   "metadata": {},
   "source": [
    "### LineNotifyのTOKEN（トークン）とAPI\n",
    "### Open Weather APIのCity（都市）とAPIKEY（キー）とAPI"
   ]
  },
  {
   "cell_type": "code",
   "execution_count": null,
   "metadata": {},
   "outputs": [],
   "source": [
    "#LineNotifyのトークンとAPI\n",
    "line_token = \"G22urEDafbd2guYIVNmnla2S5Mub1wP21UYAHq8xzFW\"\n",
    "line_notify_api = 'https://notify-api.line.me/api/notify'\n",
    "\n",
    "#天気取得のためのOpen Weather APIのCity(都市）とAPIkeyとAPI\n",
    "City = \"Sabae,JP\"\n",
    "open_weather_api_key = \"e1684e4b730562d2c3868bec6b1932a9\"\n",
    "open_weather_api = 'http://api.openweathermap.org/data/2.5/forecast?q={city}&units=metric&lang=ja&cnt=8&APPID={key}'\n",
    "\n",
    "#forecast : 3時間ごとのデータを取得\n",
    "#units : 気温の単位の指定　metric(摂氏℃になる)\n",
    "#lang : 表記言語\n",
    "#cnt : 3時間ごといくつとるか(8つ＝24時間)"
   ]
  },
  {
   "cell_type": "markdown",
   "metadata": {},
   "source": [
    "### 天気アイコンの作成"
   ]
  },
  {
   "cell_type": "code",
   "execution_count": null,
   "metadata": {},
   "outputs": [],
   "source": [
    "def getWeatherIcon(icon_str):\n",
    "    if (\n",
    "        icon_str == \"01d\" \n",
    "        or icon_str == \"01n\"\n",
    "    ):\n",
    "        return \"☀\"\n",
    "    elif (\n",
    "        icon_str == \"02d\"\n",
    "        or icon_str == \"02n\"\n",
    "        or icon_str == \"03d\"\n",
    "        or icon_str == \"03n\"\n",
    "        or icon_str == \"04d\"\n",
    "        or icon_str == \"04n\"\n",
    "    ) :\n",
    "        return \"☁\"\n",
    "    elif (\n",
    "        icon_str == \"09d\"\n",
    "        or icon_str == \"09n\"\n",
    "        or icon_str == \"10d\"\n",
    "        or icon_str == \"10n\"\n",
    "    ):\n",
    "        return \"☂\"\n",
    "    elif (\n",
    "        icon_str == \"11d\"\n",
    "        or icon_str == \"11n\"\n",
    "    ):\n",
    "        return \"⚡\"\n",
    "    elif (\n",
    "        icon_str == \"13d\"\n",
    "        or icon_str == \"\"\n",
    "    ):\n",
    "        return \"⛄\"\n",
    "    else:\n",
    "        return \"\""
   ]
  },
  {
   "cell_type": "markdown",
   "metadata": {},
   "source": [
    "### LineNotifyでLine通知する"
   ]
  },
  {
   "cell_type": "code",
   "execution_count": null,
   "metadata": {},
   "outputs": [],
   "source": [
    "def lineNotifyWeather(df):\n",
    "    texts = []\n",
    "    for date, item in df:\n",
    "        texts.append(f\"\\n【{date}】\\n\")\n",
    "        for _, d in item.iterrows():\n",
    "            texts.append(\n",
    "                f\"{d['time']}時 {getWeatherIcon(d['icon'])} {d['temp']}(℃) {d['rain']}(mm/3h)\\n\"\n",
    "            )\n",
    "    \n",
    "    url = line_notify_api\n",
    "    token = line_token\n",
    "    headers = {'Authorization' : 'Bearer ' + token}\n",
    "    message = texts\n",
    "    payload = {'message': message}\n",
    "    p = requests.post(url, headers=headers, data=payload)\n",
    "    print (p)"
   ]
  },
  {
   "cell_type": "markdown",
   "metadata": {},
   "source": [
    "### Open Weather APIから天気を取得して通知"
   ]
  },
  {
   "cell_type": "code",
   "execution_count": null,
   "metadata": {},
   "outputs": [],
   "source": [
    "def getTheWeatherAndNotify():\n",
    "    url = open_weather_api.format(city=City, key=open_weather_api_key)\n",
    "    response = requests.get(url)\n",
    "    forecastData = json.loads(response.text)\n",
    "    \n",
    "    data_rj = []\n",
    "    for item in forecastData['list']:\n",
    "        data_list = {}\n",
    "        timestamp = timezone('Asia/Tokyo').localize(datetime.datetime.fromtimestamp(item['dt']))\n",
    "        data_list['date'] = timestamp.strftime('%m/%d %a')\n",
    "        data_list['time'] = timestamp.strftime('%H')\n",
    "        data_list['description'] = item['weather'][0]['description']\n",
    "        data_list['icon'] = item['weather'][0]['icon']\n",
    "        data_list['temp'] = round(item['main']['temp'])\n",
    "        data_list['rain'] = round(item['rain']['3h'], 1) if 'rain' in item else 0\n",
    "        data_rj.append(data_list)\n",
    "    mes = pd.DataFrame(data_rj).groupby('date')\n",
    "    lineNotifyWeather(mes)\n"
   ]
  },
  {
   "cell_type": "markdown",
   "metadata": {},
   "source": [
    "### 各クラスの実行"
   ]
  },
  {
   "cell_type": "code",
   "execution_count": null,
   "metadata": {},
   "outputs": [],
   "source": [
    "getTheWeatherAndNotify()"
   ]
  }
 ],
 "metadata": {
  "kernelspec": {
   "display_name": "Python 3",
   "language": "python",
   "name": "python3"
  },
  "language_info": {
   "codemirror_mode": {
    "name": "ipython",
    "version": 3
   },
   "file_extension": ".py",
   "mimetype": "text/x-python",
   "name": "python",
   "nbconvert_exporter": "python",
   "pygments_lexer": "ipython3",
   "version": "3.7.6"
  }
 },
 "nbformat": 4,
 "nbformat_minor": 4
}
